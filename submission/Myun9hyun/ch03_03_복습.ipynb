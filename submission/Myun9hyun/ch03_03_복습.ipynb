{
  "nbformat": 4,
  "nbformat_minor": 0,
  "metadata": {
    "colab": {
      "provenance": [],
      "authorship_tag": "ABX9TyNSWZyyVsgXrW//wWeXT6bE",
      "include_colab_link": true
    },
    "kernelspec": {
      "name": "python3",
      "display_name": "Python 3"
    },
    "language_info": {
      "name": "python"
    }
  },
  "cells": [
    {
      "cell_type": "markdown",
      "metadata": {
        "id": "view-in-github",
        "colab_type": "text"
      },
      "source": [
        "<a href=\"https://colab.research.google.com/github/Myun9hyun/Python/blob/main/submission/Myun9hyun/ch03_03_%EB%B3%B5%EC%8A%B5.ipynb\" target=\"_parent\"><img src=\"https://colab.research.google.com/assets/colab-badge.svg\" alt=\"Open In Colab\"/></a>"
      ]
    },
    {
      "cell_type": "markdown",
      "source": [
        "# 예외처리"
      ],
      "metadata": {
        "id": "dJZ62bGn2qRh"
      }
    },
    {
      "cell_type": "code",
      "execution_count": 2,
      "metadata": {
        "id": "J7bL8t4a2eZr"
      },
      "outputs": [],
      "source": [
        "class HamburgerStore:\n",
        "    def __init__(self,meat, *args):\n",
        "        self.meat = meat  # 고기의 양\n",
        "        if self.meat < 0:\n",
        "            print(\"고기의 양은 음수를 입력할 수 없습니다.\")\n",
        "        self.menu = args # 메뉴 가짓수\n",
        "        for m in self.menu:\n",
        "            if m[-2:] != \"버거\":\n",
        "                print(\"메뉴의 이름은 '버거'로 끝나야 합니다.\")\n",
        "        "
      ]
    },
    {
      "cell_type": "code",
      "source": [
        "store = HamburgerStore(100, \"스펀지버거\", \"양말버거\", \"인스타감성버거\")"
      ],
      "metadata": {
        "id": "DSgUH36q3PAH"
      },
      "execution_count": 4,
      "outputs": []
    },
    {
      "cell_type": "code",
      "source": [
        "store = HamburgerStore() # 아무것도 입력하지 않아 에러"
      ],
      "metadata": {
        "colab": {
          "base_uri": "https://localhost:8080/",
          "height": 172
        },
        "id": "SN4WPNep3fto",
        "outputId": "3574d508-8e94-40ec-d9a1-0d5a741cd7c4"
      },
      "execution_count": 6,
      "outputs": [
        {
          "output_type": "error",
          "ename": "TypeError",
          "evalue": "ignored",
          "traceback": [
            "\u001b[0;31m---------------------------------------------------------------------------\u001b[0m",
            "\u001b[0;31mTypeError\u001b[0m                                 Traceback (most recent call last)",
            "\u001b[0;32m<ipython-input-6-b24aaa0cc8eb>\u001b[0m in \u001b[0;36m<module>\u001b[0;34m\u001b[0m\n\u001b[0;32m----> 1\u001b[0;31m \u001b[0mstore\u001b[0m \u001b[0;34m=\u001b[0m \u001b[0mHamburgerStore\u001b[0m\u001b[0;34m(\u001b[0m\u001b[0;34m)\u001b[0m \u001b[0;31m# 아무것도 입력하지 않아 에러\u001b[0m\u001b[0;34m\u001b[0m\u001b[0;34m\u001b[0m\u001b[0m\n\u001b[0m",
            "\u001b[0;31mTypeError\u001b[0m: __init__() missing 1 required positional argument: 'meat'"
          ]
        }
      ]
    },
    {
      "cell_type": "code",
      "source": [
        "store = HamburgerStore(\"헤헤\") # 올바른 값이 아니라 에러"
      ],
      "metadata": {
        "colab": {
          "base_uri": "https://localhost:8080/",
          "height": 299
        },
        "id": "VAmOTXq83k_V",
        "outputId": "5e6faba8-b1d2-48b6-a6ec-fdc346127fc5"
      },
      "execution_count": 8,
      "outputs": [
        {
          "output_type": "error",
          "ename": "TypeError",
          "evalue": "ignored",
          "traceback": [
            "\u001b[0;31m---------------------------------------------------------------------------\u001b[0m",
            "\u001b[0;31mTypeError\u001b[0m                                 Traceback (most recent call last)",
            "\u001b[0;32m<ipython-input-8-3764f982c8c1>\u001b[0m in \u001b[0;36m<module>\u001b[0;34m\u001b[0m\n\u001b[0;32m----> 1\u001b[0;31m \u001b[0mstore\u001b[0m \u001b[0;34m=\u001b[0m \u001b[0mHamburgerStore\u001b[0m\u001b[0;34m(\u001b[0m\u001b[0;34m\"헤헤\"\u001b[0m\u001b[0;34m)\u001b[0m \u001b[0;31m# 올바른 값이 아니라 에러\u001b[0m\u001b[0;34m\u001b[0m\u001b[0;34m\u001b[0m\u001b[0m\n\u001b[0m",
            "\u001b[0;32m<ipython-input-2-5c65281665b7>\u001b[0m in \u001b[0;36m__init__\u001b[0;34m(self, meat, *args)\u001b[0m\n\u001b[1;32m      2\u001b[0m     \u001b[0;32mdef\u001b[0m \u001b[0m__init__\u001b[0m\u001b[0;34m(\u001b[0m\u001b[0mself\u001b[0m\u001b[0;34m,\u001b[0m\u001b[0mmeat\u001b[0m\u001b[0;34m,\u001b[0m \u001b[0;34m*\u001b[0m\u001b[0margs\u001b[0m\u001b[0;34m)\u001b[0m\u001b[0;34m:\u001b[0m\u001b[0;34m\u001b[0m\u001b[0;34m\u001b[0m\u001b[0m\n\u001b[1;32m      3\u001b[0m         \u001b[0mself\u001b[0m\u001b[0;34m.\u001b[0m\u001b[0mmeat\u001b[0m \u001b[0;34m=\u001b[0m \u001b[0mmeat\u001b[0m  \u001b[0;31m# 고기의 양\u001b[0m\u001b[0;34m\u001b[0m\u001b[0;34m\u001b[0m\u001b[0m\n\u001b[0;32m----> 4\u001b[0;31m         \u001b[0;32mif\u001b[0m \u001b[0mself\u001b[0m\u001b[0;34m.\u001b[0m\u001b[0mmeat\u001b[0m \u001b[0;34m<\u001b[0m \u001b[0;36m0\u001b[0m\u001b[0;34m:\u001b[0m\u001b[0;34m\u001b[0m\u001b[0;34m\u001b[0m\u001b[0m\n\u001b[0m\u001b[1;32m      5\u001b[0m             \u001b[0mprint\u001b[0m\u001b[0;34m(\u001b[0m\u001b[0;34m\"고기의 양은 음수를 입력할 수 없습니다.\"\u001b[0m\u001b[0;34m)\u001b[0m\u001b[0;34m\u001b[0m\u001b[0;34m\u001b[0m\u001b[0m\n\u001b[1;32m      6\u001b[0m         \u001b[0mself\u001b[0m\u001b[0;34m.\u001b[0m\u001b[0mmenu\u001b[0m \u001b[0;34m=\u001b[0m \u001b[0margs\u001b[0m \u001b[0;31m# 메뉴 가짓수\u001b[0m\u001b[0;34m\u001b[0m\u001b[0;34m\u001b[0m\u001b[0m\n",
            "\u001b[0;31mTypeError\u001b[0m: '<' not supported between instances of 'str' and 'int'"
          ]
        }
      ]
    },
    {
      "cell_type": "code",
      "source": [
        "store = HamburgerStore(-1)"
      ],
      "metadata": {
        "colab": {
          "base_uri": "https://localhost:8080/"
        },
        "id": "EuxYLu4v3qNm",
        "outputId": "eaaa4af1-9650-4604-9b0f-f6e7f471755d"
      },
      "execution_count": 10,
      "outputs": [
        {
          "output_type": "stream",
          "name": "stdout",
          "text": [
            "고기의 양은 음수를 입력할 수 없습니다.\n"
          ]
        }
      ]
    },
    {
      "cell_type": "code",
      "source": [
        "store = HamburgerStore(1.2345)"
      ],
      "metadata": {
        "id": "-KEVfIW13r5T"
      },
      "execution_count": 11,
      "outputs": []
    },
    {
      "cell_type": "code",
      "source": [
        "store = HamburgerStore(100, \"맥너겟\")"
      ],
      "metadata": {
        "colab": {
          "base_uri": "https://localhost:8080/"
        },
        "id": "-l1PVZd83vPh",
        "outputId": "536fa864-f266-4708-8d80-969f208a39d3"
      },
      "execution_count": 14,
      "outputs": [
        {
          "output_type": "stream",
          "name": "stdout",
          "text": [
            "메뉴의 이름은 '버거'로 끝나야 합니다.\n"
          ]
        }
      ]
    },
    {
      "cell_type": "code",
      "source": [
        "store = HamburgerStore(100)"
      ],
      "metadata": {
        "id": "8uAhQgzr4C2j"
      },
      "execution_count": 16,
      "outputs": []
    },
    {
      "cell_type": "markdown",
      "source": [
        "# 1단계 : 기본 오류 처리하기"
      ],
      "metadata": {
        "id": "6Bl54K8b3914"
      }
    },
    {
      "cell_type": "code",
      "source": [
        "try:\n",
        "    store = HamburgerStore()\n",
        "except:\n",
        "    print(\"알 수 없는 오류입니다.\")"
      ],
      "metadata": {
        "colab": {
          "base_uri": "https://localhost:8080/"
        },
        "id": "ADtvajxr4HsY",
        "outputId": "322f8f70-99b3-43b6-968e-ef0f98f362c2"
      },
      "execution_count": 17,
      "outputs": [
        {
          "output_type": "stream",
          "name": "stdout",
          "text": [
            "알 수 없는 오류입니다.\n"
          ]
        }
      ]
    },
    {
      "cell_type": "code",
      "source": [
        "try:\n",
        "    store = HamburgerStore(100)\n",
        "except Exception as e: # except Exception as e: e라는 이름의 Exception 클래스로 에러를 해석해주겠다.    \n",
        "    # e -> 변수로 메시지를 받을 수 있음.\n",
        "    print(\"** 알수 없는 오류입니다.** \")\n",
        "    print(f\"에러 메시지 : {e}\")\n",
        "else: # 에러가 없으면 실행 될 코드\n",
        "    print(\"정상적으로 가게가 생성되었습니다.\")\n",
        "    print(f\"스토어의 고기 양 : {store.meat}\")\n",
        "    print(f\"스토어의 메뉴 목록 : {store.menu}\")\n",
        "finally: \n",
        "    print(\"~생성완료~\")"
      ],
      "metadata": {
        "colab": {
          "base_uri": "https://localhost:8080/"
        },
        "id": "7-nOzhWI4Txg",
        "outputId": "60b42ea2-941f-44d1-a658-a68cc63f5e82"
      },
      "execution_count": 27,
      "outputs": [
        {
          "output_type": "stream",
          "name": "stdout",
          "text": [
            "** 알수 없는 오류입니다.** \n",
            "에러 메시지 : '<' not supported between instances of 'type' and 'int'\n",
            "~생성완료~\n"
          ]
        }
      ]
    },
    {
      "cell_type": "markdown",
      "source": [
        "# 2단게 사용자 정의 오류 만들고 분기시키기"
      ],
      "metadata": {
        "id": "0Qn_hFTp5DkC"
      }
    },
    {
      "cell_type": "code",
      "source": [
        "# 고기 오류 : 음수 입력했을 때\n",
        "# 고기 오류 : 정수가 아닌 실수를 입력했을 때\n",
        "# 고기 오류 : 문자열 입력했을 때 (type으로 잡아주기는 하는데... 메시지가 마음에 안들어)\n",
        "# 메뉴 오류 : 메뉴가 아예 비어 있음\n",
        "# 메뉴 오류 : 메뉴에 '버거'가 포함되지 않음\n",
        "\n",
        "# 사용자 에러를 만들 때\n",
        "class MeatError(Exception): # class 오류명(Exception):\n",
        "    # pass\n",
        "    def __init__(self, msg) -> None:\n",
        "        super().__init__(msg)\n",
        "class MenuError(Exception):\n",
        "    pass\n",
        "\n",
        "class HamburgerStore:\n",
        "    meat_str_error_msg = \"문자열을 입력했습니다, 정수로 다시 입력해주세요\"\n",
        "    meat_float_error_msg = \"고기 양은 정수가 아닌 실수를 입력할 수 없습니다\"\n",
        "    meat_negative_error_msg = \"고기의 양은 음수를 입력할 수 없습니다\"\n",
        "\n",
        "    def __init__(self, meat, *args):\n",
        "        self.meat = meat # 고기의 양\n",
        "        self.handle_meat() # 고기를 처리하는 메소드(하위모듈화)\n",
        "        self.menu = args # 메뉴 가짓수\n",
        "        self.handle.menu() # 메뉴를 처리하는 메소드\n",
        "        \n",
        "    \n",
        "    def handle_meat(self):\n",
        "        if type(self.meat) == str:\n",
        "            raise MeatError(HamburgerStore.meat_str_error_msg)\n",
        "        if type(self.meat) == float and (int(self.meat) != self.meat):\n",
        "            raise MeatError(HamburgerStore.meat_float_error_msg)\n",
        "        if self.meat < 0:\n",
        "            raise MeatError(HamburgerStore.meat_negative_error_msg)\n",
        "    \n",
        "    def handle_menu(self):\n",
        "        if not self.menu:\n",
        "            for m in self.menu:\n",
        "                if m[-2:] != \"버거\":\n",
        "                # print(\"메뉴의 이름은 버거로 끝나야합니다\")\n",
        "                    raise MenuError (\"메뉴의 이름은 버거로 끝나야합니다\")\n",
        "\n",
        "try:\n",
        "    # store = HamburgerStore()\n",
        "    # store = HamburgerStore(\"\")\n",
        "    # store = HamburgerStore(-1)\n",
        "    # store = HamburgerStore(1.0)\n",
        "    store = HamburgerStore(1,\"된장찌개\")\n",
        "    # store = HamburgerStore(100)\n",
        "except MeatError as e: # except 사용자에러 as e : 사용자에러를 변수 e로 불러오겠음\n",
        "    print(\"**고기 관련 오류입니다**\")\n",
        "    print(f\"에러 메시지 : {e}\")\n",
        "except MenuError as e: # except 사용자에러 as e : 사용자에러를 변수 e로 불러오겠음\n",
        "    print(\"**메뉴 관련 오류입니다**\")\n",
        "    print(f\"에러 메시지 : {e}\")\n",
        "except Exception as e: # except Exception as e : e라는 이름의 Exception 클래스로 에러를 해석해주겠다.\n",
        "\n",
        "    # e -> 변수로 메시지를 받을 수 있음\n",
        "    print(\"**알 수 없는 오류입니다**\")\n",
        "    print(f\"에러 메시지 : {e}\")\n",
        "else: # 에러가 없으면 실행될 코드\n",
        "    print(\"정상적으로 가게가 생성 되었습니다\")\n",
        "    print(f\"스토어의 고기 양 : {store.meat}\")\n",
        "    print(f\"스토어의 메뉴 목록 : {store.menu}\")\n",
        "finally: # 에러가 있던 없던 실행될 코드\n",
        "    print(\"**생성 과정 완료**\")"
      ],
      "metadata": {
        "colab": {
          "base_uri": "https://localhost:8080/"
        },
        "id": "mSVWk7Ua5Hm_",
        "outputId": "9332abaf-649e-42f3-a10f-9fe70c6d8541"
      },
      "execution_count": 35,
      "outputs": [
        {
          "output_type": "stream",
          "name": "stdout",
          "text": [
            "**알 수 없는 오류입니다**\n",
            "에러 메시지 : 'HamburgerStore' object has no attribute 'handle'\n",
            "**생성 과정 완료**\n"
          ]
        }
      ]
    },
    {
      "cell_type": "code",
      "source": [
        "# 고기 오류 : 음수 입력했을 때\n",
        "# 고기 오류 : 정수가 아닌 실수를 입력했을 때\n",
        "# 고기 오류 : 문자열 입력했을 때 (type으로 잡아주기는 하는데... 메시지가 마음에 안들어)\n",
        "# 메뉴 오류 : 메뉴가 아예 비어 있음\n",
        "# 메뉴 오류 : 메뉴에 '버거'가 포함되지 않음\n",
        "\n",
        "# 사용자 에러를 만들 때\n",
        "class MeatError(Exception): # class 오류명(Exception):\n",
        "    # pass\n",
        "    def __init__(self, msg) -> None:\n",
        "        super().__init__(msg)\n",
        "class MenuError(Exception):\n",
        "    pass\n",
        "\n",
        "class HamburgerStore:\n",
        "    meat_str_error_msg = \"문자열을 입력했습니다, 정수로 다시 입력해주세요\"\n",
        "    meat_float_error_msg = \"고기 양은 정수가 아닌 실수를 입력할 수 없습니다\"\n",
        "    meat_negative_error_msg = \"고기의 양은 음수를 입력할 수 없습니다\"\n",
        "\n",
        "    def __init__(self, meat, *args):\n",
        "        self.meat = meat # 고기의 양\n",
        "        self.handle_meat() # 고기를 처리하는 메소드 (하위모듈화)\n",
        "        self.menu = args # 메뉴 가짓수\n",
        "        self.handle_menu() # 메뉴를 처리하는 메소드\n",
        "    \n",
        "    def handle_meat(self):\n",
        "        if type(self.meat) == str:\n",
        "            raise MeatError(HamburgerStore.meat_str_error_msg)\n",
        "        if type(self.meat) == float and (int(self.meat) != self.meat):\n",
        "            raise MeatError(HamburgerStore.meat_float_error_msg)\n",
        "        if self.meat < 0:\n",
        "            raise MeatError(HamburgerStore.meat_negative_error_msg)\n",
        "    \n",
        "    def handle_menu(self):\n",
        "        if not self.menu:\n",
        "            raise MenuError(\"메뉴 없이 가게를 열 수 없습니다\")\n",
        "        for m in self.menu:\n",
        "            if m[-2:] != \"버거\":\n",
        "                # print(\"메뉴의 이름은 버거로 끝나야합니다\")\n",
        "                raise MenuError(\"메뉴의 이름은 버거로 끝나야합니다\")\n",
        "\n",
        "try:\n",
        "    # store = HamburgerStore()\n",
        "    # store = HamburgerStore(\"\")\n",
        "    # store = HamburgerStore(-1)\n",
        "    # store = HamburgerStore(1.0)\n",
        "    # store = HamburgerStore(1.1)\n",
        "    # store = HamburgerStore(1)\n",
        "    # store = HamburgerStore(1, \"된장찌개\")\n",
        "    store = HamburgerStore(1, \"된장찌개버거\")\n",
        "except MeatError as e: # except 사용자에러 as e : 사용자에러를 변수 e로 불러오겠음\n",
        "    print(\"**고기 관련 오류입니다**\")\n",
        "    print(f\"에러 메시지 : {e}\")\n",
        "except MenuError as e: # except 사용자에러 as e : 사용자에러를 변수 e로 불러오겠음\n",
        "    print(\"**메뉴 관련 오류입니다**\")\n",
        "    print(f\"에러 메시지 : {e}\")\n",
        "except Exception as e: # except Exception as e : e라는 이름의 Exception 클래스로 에러를 해석해주겠다.\n",
        "    # e -> 변수로 메시지를 받을 수 있음\n",
        "    print(\"**알 수 없는 오류입니다**\")\n",
        "    print(f\"에러 메시지 : {e}\")\n",
        "else: # 에러가 없으면 실행될 코드\n",
        "    print(\"<정상적으로 가게가 생성 되었습니다>\")\n",
        "    print(f\"스토어의 고기 양 : {store.meat}\")\n",
        "    print(f\"스토어의 메뉴 목록 : {store.menu}\")\n",
        "finally: # 에러가 있던 없던 실행될 코드\n",
        "    print(\"**생성 과정 완료**\")"
      ],
      "metadata": {
        "colab": {
          "base_uri": "https://localhost:8080/"
        },
        "id": "MFf_p2elCGqj",
        "outputId": "665b9174-76c7-4072-f818-ff0c3c8d8c7d"
      },
      "execution_count": 36,
      "outputs": [
        {
          "output_type": "stream",
          "name": "stdout",
          "text": [
            "<정상적으로 가게가 생성 되었습니다>\n",
            "스토어의 고기 양 : 1\n",
            "스토어의 메뉴 목록 : ('된장찌개버거',)\n",
            "**생성 과정 완료**\n"
          ]
        }
      ]
    },
    {
      "cell_type": "code",
      "source": [
        "def make_store(meat, *args):\n",
        "    try:\n",
        "        # store = HamburgerStore(1, \"된장찌개\")\n",
        "        store = HamburgerStore(meat, *args)\n",
        "    except MeatError as e: # except 사용자에러 as e : 사용자에러를 변수 e로 불러오겠음\n",
        "        print(\"**고기 관련 오류입니다**\")\n",
        "        raise e\n",
        "    except MenuError as e: # except 사용자에러 as e : 사용자에러를 변수 e로 불러오겠음\n",
        "        print(\"**메뉴 관련 오류입니다**\")\n",
        "        raise e\n",
        "    except Exception as e: # except Exception as e : e라는 이름의 Exception 클래스로 에러를 해석해주겠다.\n",
        "        # e -> 변수로 메시지를 받을 수 있음\n",
        "        print(\"**알 수 없는 오류입니다**\")\n",
        "        raise e\n",
        "    return store"
      ],
      "metadata": {
        "id": "w6MzLemDCL7s"
      },
      "execution_count": 37,
      "outputs": []
    },
    {
      "cell_type": "code",
      "source": [
        "try:\n",
        "    store = make_store(1, \"크록스버거\")\n",
        "except Exception as e:\n",
        "    print(f\"에러 메시지 : {e}\")\n",
        "    print(\"에러가 발생했네요, 조심해주세요!\")\n",
        "    print(\"본사에 보고하겠습니다...\")\n",
        "else: # 에러가 없으면 실행될 코드\n",
        "    print(\"<정상적으로 가게가 생성 되었습니다>\")\n",
        "    print(f\"스토어의 고기 양 : {store.meat}\")\n",
        "    print(f\"스토어의 메뉴 목록 : {store.menu}\")\n",
        "finally: # 에러가 있던 없던 실행될 코드\n",
        "    print(\"**생성 과정 완료**\")"
      ],
      "metadata": {
        "colab": {
          "base_uri": "https://localhost:8080/"
        },
        "id": "u0-HvTDECNpK",
        "outputId": "ca6bb6c2-3fba-4915-eeae-be7ee9c5ab4d"
      },
      "execution_count": 40,
      "outputs": [
        {
          "output_type": "stream",
          "name": "stdout",
          "text": [
            "<정상적으로 가게가 생성 되었습니다>\n",
            "스토어의 고기 양 : 1\n",
            "스토어의 메뉴 목록 : ('크록스버거',)\n",
            "**생성 과정 완료**\n"
          ]
        }
      ]
    }
  ]
}