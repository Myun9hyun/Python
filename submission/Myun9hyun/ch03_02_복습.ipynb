{
  "nbformat": 4,
  "nbformat_minor": 0,
  "metadata": {
    "colab": {
      "provenance": [],
      "authorship_tag": "ABX9TyPKtiq1vPCmwnBi9B5m0i+e",
      "include_colab_link": true
    },
    "kernelspec": {
      "name": "python3",
      "display_name": "Python 3"
    },
    "language_info": {
      "name": "python"
    }
  },
  "cells": [
    {
      "cell_type": "markdown",
      "metadata": {
        "id": "view-in-github",
        "colab_type": "text"
      },
      "source": [
        "<a href=\"https://colab.research.google.com/github/Myun9hyun/Python/blob/main/submission/Myun9hyun/ch03_02_%EB%B3%B5%EC%8A%B5.ipynb\" target=\"_parent\"><img src=\"https://colab.research.google.com/assets/colab-badge.svg\" alt=\"Open In Colab\"/></a>"
      ]
    },
    {
      "cell_type": "markdown",
      "source": [
        "# 클래스 (class : classfication)"
      ],
      "metadata": {
        "id": "RouqVx0Gkskc"
      }
    },
    {
      "cell_type": "code",
      "execution_count": 1,
      "metadata": {
        "id": "gshmi_nfjD81"
      },
      "outputs": [],
      "source": [
        "class Teacher: # class 클래스 이름\n",
        "    def __init__(self) -> None: # def __init__(self): 생성자\n",
        "        self.name = \"이명직\" "
      ]
    },
    {
      "cell_type": "code",
      "source": [
        "lee = Teacher() # 클래스() : 해당 클래스를 기반으로 하는 인스턴스(객체)를 생성해주겠다.\n",
        "# 클래스 : 특정한 객체를 만들 수 있는 설계도\n",
        "# 인스턴스 : 클래스로 만들어진 객체\n",
        "# 객체 : 특정한 기능이나 값들의 묶음\n",
        "lee "
      ],
      "metadata": {
        "colab": {
          "base_uri": "https://localhost:8080/"
        },
        "id": "Iel51fJUlkab",
        "outputId": "a06d155d-1b44-4fdf-9ef7-c99bb00657d3"
      },
      "execution_count": 3,
      "outputs": [
        {
          "output_type": "execute_result",
          "data": {
            "text/plain": [
              "<__main__.Teacher at 0x7f1362b8ccd0>"
            ]
          },
          "metadata": {},
          "execution_count": 3
        }
      ]
    },
    {
      "cell_type": "code",
      "source": [
        "lee.name # 인스턴스의 속성"
      ],
      "metadata": {
        "colab": {
          "base_uri": "https://localhost:8080/",
          "height": 35
        },
        "id": "Todcjzyjl7gt",
        "outputId": "16f50e10-9224-406a-e0a1-a05cdff33782"
      },
      "execution_count": 5,
      "outputs": [
        {
          "output_type": "execute_result",
          "data": {
            "text/plain": [
              "'이명직'"
            ],
            "application/vnd.google.colaboratory.intrinsic+json": {
              "type": "string"
            }
          },
          "metadata": {},
          "execution_count": 5
        }
      ]
    },
    {
      "cell_type": "code",
      "source": [
        "class Teacher: # class 클래스 이름\n",
        "    def __init__(self) -> None: # def __init__(self): 생성자\n",
        "        self.name = \"이명직\" \n",
        "\n",
        "        # 클래스에 속한 함수(기능) -> 메소드, 메서드. (method)\n",
        "    def lesson(self): # def 메소드 이름(self)\n",
        "        print(\"수업을 시작하겠습니다\")\n"
      ],
      "metadata": {
        "id": "q7dRWXDimCk2"
      },
      "execution_count": 11,
      "outputs": []
    },
    {
      "cell_type": "code",
      "source": [
        "lee = Teacher()\n",
        "lee.lesson() # 인스턴스.메소드명()"
      ],
      "metadata": {
        "colab": {
          "base_uri": "https://localhost:8080/"
        },
        "id": "adbWhF7imZz_",
        "outputId": "6d4fc420-7e04-4cc7-869b-585a27d7b24f"
      },
      "execution_count": 14,
      "outputs": [
        {
          "output_type": "stream",
          "name": "stdout",
          "text": [
            "수업을 시작하겠습니다\n"
          ]
        }
      ]
    },
    {
      "cell_type": "code",
      "source": [
        "class Teacher: # class 클래스 이름\n",
        "    def __init__(self, name) -> None: # def __init__(self, 매개변수 - parameter): 생성자 <- 인자 - argument(외부)\n",
        "        # self.name = \"이명직\" \n",
        "        self.name = name \n",
        "\n",
        "        # 클래스에 속한 함수(기능) -> 메소드, 메서드. (method)\n",
        "    def lesson(self): # def 메소드 이름(self)\n",
        "        print(\"수업을 시작하겠습니다\")\n"
      ],
      "metadata": {
        "id": "gDGjNwcXmqZn"
      },
      "execution_count": 15,
      "outputs": []
    },
    {
      "cell_type": "code",
      "source": [
        "lee = Teacher() # name -> name이라고 하는 매개변수가 없어 실행이 되지 않음.\n",
        "lee.lesson() # 인스턴스.메소드명()"
      ],
      "metadata": {
        "colab": {
          "base_uri": "https://localhost:8080/",
          "height": 190
        },
        "id": "JmK5uLDmnp6g",
        "outputId": "931f9d69-e014-4976-fdb8-e3e39910354a"
      },
      "execution_count": 19,
      "outputs": [
        {
          "output_type": "error",
          "ename": "TypeError",
          "evalue": "ignored",
          "traceback": [
            "\u001b[0;31m---------------------------------------------------------------------------\u001b[0m",
            "\u001b[0;31mTypeError\u001b[0m                                 Traceback (most recent call last)",
            "\u001b[0;32m<ipython-input-19-4b028fb39f51>\u001b[0m in \u001b[0;36m<module>\u001b[0;34m\u001b[0m\n\u001b[0;32m----> 1\u001b[0;31m \u001b[0mlee\u001b[0m \u001b[0;34m=\u001b[0m \u001b[0mTeacher\u001b[0m\u001b[0;34m(\u001b[0m\u001b[0;34m)\u001b[0m \u001b[0;31m# name -> name이라고 하는 매개변수가 없어 실행이 되지 않음.\u001b[0m\u001b[0;34m\u001b[0m\u001b[0;34m\u001b[0m\u001b[0m\n\u001b[0m\u001b[1;32m      2\u001b[0m \u001b[0mlee\u001b[0m\u001b[0;34m.\u001b[0m\u001b[0mlesson\u001b[0m\u001b[0;34m(\u001b[0m\u001b[0;34m)\u001b[0m \u001b[0;31m# 인스턴스.메소드명()\u001b[0m\u001b[0;34m\u001b[0m\u001b[0;34m\u001b[0m\u001b[0m\n",
            "\u001b[0;31mTypeError\u001b[0m: __init__() missing 1 required positional argument: 'name'"
          ]
        }
      ]
    },
    {
      "cell_type": "code",
      "source": [
        "# lee = Teacher() # name -> name이라고 하는 매개변수가 없어 실행이 되지 않음.\n",
        "lee = Teacher('이단단') # name -> name이라고 하는 매개변수가 없어 실행이 되지 않음.\n",
        "print(lee.name) # 인스턴스.메소드명()"
      ],
      "metadata": {
        "colab": {
          "base_uri": "https://localhost:8080/"
        },
        "id": "5QFmYAXEnTKY",
        "outputId": "894fd407-5fca-4ba3-e937-8333e953c4ee"
      },
      "execution_count": 18,
      "outputs": [
        {
          "output_type": "stream",
          "name": "stdout",
          "text": [
            "이단단\n"
          ]
        }
      ]
    },
    {
      "cell_type": "code",
      "source": [
        "class Teacher: # class 클래스 이름\n",
        "    def __init__(self, name) -> None: # def __init__(self, 매개변수 - parameter): 생성자 <- 인자 - argument(외부)\n",
        "        # self.name = \"이명직\" \n",
        "        self.name = name \n",
        "\n",
        "        # 클래스에 속한 함수(기능) -> 메소드, 메서드. (method)\n",
        "    def lesson(self,time, *args, comments=\"뭘하면 좋을까요?\", **kwargs): # def 메소드 이름(self)\n",
        "        # 자기소개를 한다(인스턴스->name)\n",
        "        print(f\"제 이름은 {self.name}입니다.\")\n",
        "        # 수업시간을 알려준다(매개변수 -> time)\n",
        "        print(f\"오늘의 수업 시간은 {time:.2f}시간 입니다.\")\n",
        "        # 수업 과목 목록을 돌려준다 (args -> for반복)\n",
        "        print(f\"오늘의 수업 과목은 \", end=\" \")\n",
        "        for v in args: # *args -> 튜플 -> 시퀀스 -> for로 반복이 가능\n",
        "        # 각각의 요소(element)를 v라는 변수 이름으로 받겠다.\n",
        "        # v는 루프가 한 번 돌때마다 순서대로 새로운 요소 값을 받는다.\n",
        "            print(v, end=\" \")\n",
        "        print(\"입니다.\")\n",
        "        print(\"수업을 시작하겠습니다\")\n",
        "        print(comments)\n",
        "        # kwargs -> 수강생명: 질문\n",
        "        for k, v in kwargs.items():\n",
        "            print(f\"{k}님이 질문 해주셨네요?\")\n",
        "            print(f\"{v}에 대해 답해드릴게요\")\n",
        "            print(\"사실 저도 잘 모름;\")\n",
        "            # items는 키와 밸류 둘다 처리\n"
      ],
      "metadata": {
        "id": "Z3KeVTIvnz5b"
      },
      "execution_count": 25,
      "outputs": []
    },
    {
      "cell_type": "code",
      "source": [
        "# lee = Teacher() # name -> name이라고 하는 매개변수가 없어 실행이 되지 않음.\n",
        "lee = Teacher('이단단') # name -> name이라고 하는 매개변수가 없어 실행이 되지 않음.\n",
        "print(lee.name) # 인스턴스.메소드명()\n",
        "lee.lesson() # time이 없어 에러."
      ],
      "metadata": {
        "colab": {
          "base_uri": "https://localhost:8080/",
          "height": 227
        },
        "id": "VN-q6PdWq_vM",
        "outputId": "9c77787a-ba6c-4a6c-951a-8e66c4bef8d0"
      },
      "execution_count": 27,
      "outputs": [
        {
          "output_type": "stream",
          "name": "stdout",
          "text": [
            "이단단\n"
          ]
        },
        {
          "output_type": "error",
          "ename": "TypeError",
          "evalue": "ignored",
          "traceback": [
            "\u001b[0;31m---------------------------------------------------------------------------\u001b[0m",
            "\u001b[0;31mTypeError\u001b[0m                                 Traceback (most recent call last)",
            "\u001b[0;32m<ipython-input-27-1e01c05cffae>\u001b[0m in \u001b[0;36m<module>\u001b[0;34m\u001b[0m\n\u001b[1;32m      2\u001b[0m \u001b[0mlee\u001b[0m \u001b[0;34m=\u001b[0m \u001b[0mTeacher\u001b[0m\u001b[0;34m(\u001b[0m\u001b[0;34m'이단단'\u001b[0m\u001b[0;34m)\u001b[0m \u001b[0;31m# name -> name이라고 하는 매개변수가 없어 실행이 되지 않음.\u001b[0m\u001b[0;34m\u001b[0m\u001b[0;34m\u001b[0m\u001b[0m\n\u001b[1;32m      3\u001b[0m \u001b[0mprint\u001b[0m\u001b[0;34m(\u001b[0m\u001b[0mlee\u001b[0m\u001b[0;34m.\u001b[0m\u001b[0mname\u001b[0m\u001b[0;34m)\u001b[0m \u001b[0;31m# 인스턴스.메소드명()\u001b[0m\u001b[0;34m\u001b[0m\u001b[0;34m\u001b[0m\u001b[0m\n\u001b[0;32m----> 4\u001b[0;31m \u001b[0mlee\u001b[0m\u001b[0;34m.\u001b[0m\u001b[0mlesson\u001b[0m\u001b[0;34m(\u001b[0m\u001b[0;34m)\u001b[0m\u001b[0;34m\u001b[0m\u001b[0;34m\u001b[0m\u001b[0m\n\u001b[0m",
            "\u001b[0;31mTypeError\u001b[0m: lesson() missing 1 required positional argument: 'time'"
          ]
        }
      ]
    },
    {
      "cell_type": "code",
      "source": [
        "import math\n",
        "\n",
        "# lee = Teacher() # name -> name이라고 하는 매개변수가 없어 실행이 되지 않음.\n",
        "lee = Teacher('이단단') # name -> name이라고 하는 매개변수가 없어 실행이 되지 않음.\n",
        "print(lee.name) # 인스턴스.메소드명()\n",
        "lee.lesson(math.pi)\n"
      ],
      "metadata": {
        "colab": {
          "base_uri": "https://localhost:8080/"
        },
        "id": "pKaAlkzurO6O",
        "outputId": "d5ae5922-524d-4645-9594-e9bfd0bdc912"
      },
      "execution_count": 28,
      "outputs": [
        {
          "output_type": "stream",
          "name": "stdout",
          "text": [
            "이단단\n",
            "제 이름은 이단단입니다.\n",
            "오늘의 수업 시간은 3.14시간 입니다.\n",
            "오늘의 수업 과목은  입니다.\n",
            "수업을 시작하겠습니다\n",
            "뭘하면 좋을까요?\n"
          ]
        }
      ]
    },
    {
      "cell_type": "code",
      "source": [
        "lee.lesson(math.pi, \"자바\", \"자바스크립트\", \"Numpy\")"
      ],
      "metadata": {
        "colab": {
          "base_uri": "https://localhost:8080/"
        },
        "id": "yToUt1LxrYY3",
        "outputId": "0f20c599-31e3-413e-93a2-8517233293b1"
      },
      "execution_count": 29,
      "outputs": [
        {
          "output_type": "stream",
          "name": "stdout",
          "text": [
            "제 이름은 이단단입니다.\n",
            "오늘의 수업 시간은 3.14시간 입니다.\n",
            "오늘의 수업 과목은  자바 자바스크립트 Numpy 입니다.\n",
            "수업을 시작하겠습니다\n",
            "뭘하면 좋을까요?\n"
          ]
        }
      ]
    },
    {
      "cell_type": "markdown",
      "source": [
        " 위의 코드에서 enumerate 추가"
      ],
      "metadata": {
        "id": "YVWrVgkpr2oo"
      }
    },
    {
      "cell_type": "code",
      "source": [
        "class Teacher: # class 클래스이름:\n",
        "    def __init__(self, name): # def __init__(self, 매개변수 - parameter): 생성자 <- 인자(argment) (외부)\n",
        "        # self.name = \"이명직\"\n",
        "        self.name = name\n",
        "    \n",
        "    # 클래스에 속한 함수(기능) -> 메소드, 메서드. (method)\n",
        "    def lesson(self, time, *args, comment=\"뭘 하면 좋을까요\", **kwargs): # def 메소드이름(self)\n",
        "        # 자기소개를 한다 (인스턴스->name)\n",
        "        print(f\"제 이름은 {self.name}입니다.\")\n",
        "        # 수업 시간을 알려준다 (매개변수->time)\n",
        "        print(f\"오늘의 수업시간은 {time:.2f}시간입니다.\")\n",
        "        # 수업 과목 목록을 돌려준다 (args -> for반복)\n",
        "        print(f\"오늘의 수업 과목은 \")\n",
        "        # for v in args: # *args -> 튜플 -> 시퀀스 -> for로 반복이 가능\n",
        "        # enumerate : 시퀀스형 객체를 '인덱스, 값' 형태의 튜플로 원소들을 바꿔줌\n",
        "        for i, v in enumerate(args): # *args -> 튜플 -> 시퀀스 -> for로 반복이 가능\n",
        "            # 각각의 요소(element)를 v라는 변수 이름으로 받겠다\n",
        "            # v는 루프가 한 번 돌때마다 순서대로 새로운 요소 값을 받는다\n",
        "            print(i, v)\n",
        "            # print(v)\n",
        "        print(\"입니다\")\n",
        "        print(\"수업을 시작하겠습니다!\")\n",
        "        print(comment)\n",
        "        # kwargs -> 수강생명:질문\n",
        "        for k, v in kwargs.items():\n",
        "            print(f\"{k}님이 질문하셨네요\")\n",
        "            print(f\"{v}에 대해서 답해드릴게요\")\n",
        "            print(\"실은 저도 잘 몰라요\")"
      ],
      "metadata": {
        "id": "iZK52lwjrkzO"
      },
      "execution_count": 37,
      "outputs": []
    },
    {
      "cell_type": "code",
      "source": [
        "lee.lesson(math.pi, \n",
        "           \"자바\", \"자바스크립트\", \"Numpy\",\n",
        "           john = \"강사님 타자가 너무 빨라요\",\n",
        "           james = \"강사님 수업 진도가 너무 빨라요\")"
      ],
      "metadata": {
        "colab": {
          "base_uri": "https://localhost:8080/"
        },
        "id": "VXXBwqaYsE5O",
        "outputId": "6745b7e7-f191-4547-caee-8de692fb709f"
      },
      "execution_count": 38,
      "outputs": [
        {
          "output_type": "stream",
          "name": "stdout",
          "text": [
            "제 이름은 이단단입니다.\n",
            "오늘의 수업 시간은 3.14시간 입니다.\n",
            "오늘의 수업 과목은  자바 자바스크립트 Numpy 입니다.\n",
            "수업을 시작하겠습니다\n",
            "뭘하면 좋을까요?\n",
            "john님이 질문 해주셨네요?\n",
            "강사님 타자가 너무 빨라요에 대해 답해드릴게요\n",
            "사실 저도 잘 모름;\n",
            "james님이 질문 해주셨네요?\n",
            "강사님 수업 진도가 너무 빨라요에 대해 답해드릴게요\n",
            "사실 저도 잘 모름;\n"
          ]
        }
      ]
    },
    {
      "cell_type": "code",
      "source": [
        "# 클래스 속성\n",
        "# 클래스 -> 인스턴스 -> 개별 인스턴스 속성\n",
        "\n",
        "class CheonBeer:\n",
        "    counter=1 # 클래스들이 모두 공유\n",
        "\n",
        "    def __init__(self) -> None:\n",
        "        print(f\"축하합니다! {CheonBeer.counter}호점을 개점했습니다!\")\n",
        "        CheonBeer.counter += 1 # 1을 더해주고 그 값을 해당 변수에 다시 대입"
      ],
      "metadata": {
        "id": "fFQLk7Yqv599"
      },
      "execution_count": 75,
      "outputs": []
    },
    {
      "cell_type": "code",
      "source": [
        "s1 = CheonBeer()\n",
        "s1.counter"
      ],
      "metadata": {
        "colab": {
          "base_uri": "https://localhost:8080/"
        },
        "id": "dU9pEc_OwPix",
        "outputId": "cf028b42-f98d-4a57-c19c-36b062144b4e"
      },
      "execution_count": 78,
      "outputs": [
        {
          "output_type": "stream",
          "name": "stdout",
          "text": [
            "축하합니다! 3호점을 개점했습니다!\n"
          ]
        },
        {
          "output_type": "execute_result",
          "data": {
            "text/plain": [
              "4"
            ]
          },
          "metadata": {},
          "execution_count": 78
        }
      ]
    },
    {
      "cell_type": "code",
      "source": [
        "s2 = CheonBeer()\n",
        "s1.counter, s2.counter"
      ],
      "metadata": {
        "colab": {
          "base_uri": "https://localhost:8080/"
        },
        "id": "gEpco8GRwcj3",
        "outputId": "71e31050-6b93-4abf-845b-d0042c0ce282"
      },
      "execution_count": 82,
      "outputs": [
        {
          "output_type": "stream",
          "name": "stdout",
          "text": [
            "축하합니다! 7호점을 개점했습니다!\n"
          ]
        },
        {
          "output_type": "execute_result",
          "data": {
            "text/plain": [
              "(8, 8)"
            ]
          },
          "metadata": {},
          "execution_count": 82
        }
      ]
    },
    {
      "cell_type": "code",
      "source": [
        "# 클래스 속성\n",
        "# 클래스 -> 인스턴스 -> 개별 인스턴스 속성\n",
        "\n",
        "class CheonBeer:\n",
        "    counter=1 # 클래스들이 모두 공유\n",
        "\n",
        "    def __init__(self) -> None:\n",
        "        print(f\"축하합니다! {CheonBeer.counter}호점을 개점했습니다!\") # self로 지정하면 클래스간 공유x\n",
        "        self.my_counter = CheonBeer.counter\n",
        "        CheonBeer.counter += 1 # 1을 더해주고 그 값을 해당 변수에 다시 대입"
      ],
      "metadata": {
        "id": "_a63y8giw8ds"
      },
      "execution_count": 84,
      "outputs": []
    },
    {
      "cell_type": "code",
      "source": [
        "s1 = CheonBeer()\n",
        "s2 = CheonBeer()\n",
        "s1.counter, s2.counter, s1.my_counter, s2.my_counter"
      ],
      "metadata": {
        "colab": {
          "base_uri": "https://localhost:8080/"
        },
        "id": "CYQMYi2TxXFx",
        "outputId": "78b20ece-5a86-47ce-8449-9246e15e0240"
      },
      "execution_count": 90,
      "outputs": [
        {
          "output_type": "stream",
          "name": "stdout",
          "text": [
            "축하합니다! 5호점을 개점했습니다!\n",
            "축하합니다! 6호점을 개점했습니다!\n"
          ]
        },
        {
          "output_type": "execute_result",
          "data": {
            "text/plain": [
              "(7, 7, 5, 6)"
            ]
          },
          "metadata": {},
          "execution_count": 90
        }
      ]
    },
    {
      "cell_type": "code",
      "source": [
        "class ManBeer(CheonBeer): # class 하위클래스(상위클래스)\n",
        "    pass"
      ],
      "metadata": {
        "id": "iaUpoppWx9oc"
      },
      "execution_count": 91,
      "outputs": []
    },
    {
      "cell_type": "code",
      "source": [
        "a1 = ManBeer()\n",
        "a1.counter, a1.my_counter"
      ],
      "metadata": {
        "colab": {
          "base_uri": "https://localhost:8080/"
        },
        "id": "e3pui9LzyDxt",
        "outputId": "a09f6de5-747c-441a-92bb-20c0a97ed4be"
      },
      "execution_count": 103,
      "outputs": [
        {
          "output_type": "stream",
          "name": "stdout",
          "text": [
            "축하합니다! 18호점을 개점했습니다!\n"
          ]
        },
        {
          "output_type": "execute_result",
          "data": {
            "text/plain": [
              "(19, 18)"
            ]
          },
          "metadata": {},
          "execution_count": 103
        }
      ]
    },
    {
      "cell_type": "code",
      "source": [
        "class ManBeer(CheonBeer): # class 하위클래스(상위클래스)\n",
        "    def __init__(self, prize, visitor_count) -> None: # 덮어씌워서 다시 메소드를 작성하는 것 -> 메소드 오버라이딩\n",
        "        print(f\"{visitor_count} 번째 손님에게 {prize}를 드립니다.\")"
      ],
      "metadata": {
        "id": "LBGfLwnByPtM"
      },
      "execution_count": 110,
      "outputs": []
    },
    {
      "cell_type": "code",
      "source": [
        "a1 = ManBeer(\"아이폰\", 1000)\n",
        "a1.counter, a1.my_counter"
      ],
      "metadata": {
        "colab": {
          "base_uri": "https://localhost:8080/",
          "height": 209
        },
        "id": "KARbiwWJyidP",
        "outputId": "694457cf-92a7-4064-cdf7-16d7ae7dcc5d"
      },
      "execution_count": 111,
      "outputs": [
        {
          "output_type": "stream",
          "name": "stdout",
          "text": [
            "1000 번째 손님에게 아이폰를 드립니다.\n"
          ]
        },
        {
          "output_type": "error",
          "ename": "AttributeError",
          "evalue": "ignored",
          "traceback": [
            "\u001b[0;31m---------------------------------------------------------------------------\u001b[0m",
            "\u001b[0;31mAttributeError\u001b[0m                            Traceback (most recent call last)",
            "\u001b[0;32m<ipython-input-111-5d3ec789c635>\u001b[0m in \u001b[0;36m<module>\u001b[0;34m\u001b[0m\n\u001b[1;32m      1\u001b[0m \u001b[0ma1\u001b[0m \u001b[0;34m=\u001b[0m \u001b[0mManBeer\u001b[0m\u001b[0;34m(\u001b[0m\u001b[0;34m\"아이폰\"\u001b[0m\u001b[0;34m,\u001b[0m \u001b[0;36m1000\u001b[0m\u001b[0;34m)\u001b[0m\u001b[0;34m\u001b[0m\u001b[0;34m\u001b[0m\u001b[0m\n\u001b[0;32m----> 2\u001b[0;31m \u001b[0ma1\u001b[0m\u001b[0;34m.\u001b[0m\u001b[0mcounter\u001b[0m\u001b[0;34m,\u001b[0m \u001b[0ma1\u001b[0m\u001b[0;34m.\u001b[0m\u001b[0mmy_counter\u001b[0m\u001b[0;34m\u001b[0m\u001b[0;34m\u001b[0m\u001b[0m\n\u001b[0m",
            "\u001b[0;31mAttributeError\u001b[0m: 'ManBeer' object has no attribute 'my_counter'"
          ]
        }
      ]
    },
    {
      "cell_type": "code",
      "source": [
        "class ManBeer(CheonBeer): # class 하위클래스(상위클래스)\n",
        "    def __init__(self, prize, visitor_count) -> None: # 덮어씌워서 다시 메소드를 작성하는 것 -> 메소드 오버라이딩\n",
        "        super().__init__() # 상속이 필요\n",
        "        print(f\"{visitor_count} 번째 손님에게 {prize}를 드립니다.\")"
      ],
      "metadata": {
        "id": "mMSFBH1UyyCu"
      },
      "execution_count": 108,
      "outputs": []
    },
    {
      "cell_type": "code",
      "source": [
        "a1 = ManBeer(\"아이폰\", 1000)\n",
        "a1.counter, a1.my_counter"
      ],
      "metadata": {
        "id": "9c9TShWiy80D"
      },
      "execution_count": null,
      "outputs": []
    },
    {
      "cell_type": "code",
      "source": [
        "class ManWine(ManBeer):\n",
        "    def __init__(self, msg):\n",
        "        super().__init__()\n",
        "        print(f\"행운의 포춘쿠키 : {msg}\")\n",
        "# super 내부에 상속 함수를 적지 않아 에러"
      ],
      "metadata": {
        "id": "unAc_FQdzCUS"
      },
      "execution_count": 122,
      "outputs": []
    },
    {
      "cell_type": "code",
      "source": [
        "a2 = ManWine(\"주변 사람에게 잘 하세요\")\n",
        "a2.counter, a2.my_counter"
      ],
      "metadata": {
        "colab": {
          "base_uri": "https://localhost:8080/",
          "height": 299
        },
        "id": "IIX5KwfTzeXi",
        "outputId": "48a7f5b0-edbc-412e-d549-dd1084540079"
      },
      "execution_count": 123,
      "outputs": [
        {
          "output_type": "error",
          "ename": "TypeError",
          "evalue": "ignored",
          "traceback": [
            "\u001b[0;31m---------------------------------------------------------------------------\u001b[0m",
            "\u001b[0;31mTypeError\u001b[0m                                 Traceback (most recent call last)",
            "\u001b[0;32m<ipython-input-123-966e30c5cb61>\u001b[0m in \u001b[0;36m<module>\u001b[0;34m\u001b[0m\n\u001b[0;32m----> 1\u001b[0;31m \u001b[0ma2\u001b[0m \u001b[0;34m=\u001b[0m \u001b[0mManWine\u001b[0m\u001b[0;34m(\u001b[0m\u001b[0;34m\"주변 사람에게 잘 하세요\"\u001b[0m\u001b[0;34m)\u001b[0m\u001b[0;34m\u001b[0m\u001b[0;34m\u001b[0m\u001b[0m\n\u001b[0m\u001b[1;32m      2\u001b[0m \u001b[0ma2\u001b[0m\u001b[0;34m.\u001b[0m\u001b[0mcounter\u001b[0m\u001b[0;34m,\u001b[0m \u001b[0ma2\u001b[0m\u001b[0;34m.\u001b[0m\u001b[0mmy_counter\u001b[0m\u001b[0;34m\u001b[0m\u001b[0;34m\u001b[0m\u001b[0m\n",
            "\u001b[0;32m<ipython-input-122-8666311c2582>\u001b[0m in \u001b[0;36m__init__\u001b[0;34m(self, msg)\u001b[0m\n\u001b[1;32m      1\u001b[0m \u001b[0;32mclass\u001b[0m \u001b[0mManWine\u001b[0m\u001b[0;34m(\u001b[0m\u001b[0mManBeer\u001b[0m\u001b[0;34m)\u001b[0m\u001b[0;34m:\u001b[0m\u001b[0;34m\u001b[0m\u001b[0;34m\u001b[0m\u001b[0m\n\u001b[1;32m      2\u001b[0m     \u001b[0;32mdef\u001b[0m \u001b[0m__init__\u001b[0m\u001b[0;34m(\u001b[0m\u001b[0mself\u001b[0m\u001b[0;34m,\u001b[0m \u001b[0mmsg\u001b[0m\u001b[0;34m)\u001b[0m\u001b[0;34m:\u001b[0m\u001b[0;34m\u001b[0m\u001b[0;34m\u001b[0m\u001b[0m\n\u001b[0;32m----> 3\u001b[0;31m         \u001b[0msuper\u001b[0m\u001b[0;34m(\u001b[0m\u001b[0;34m)\u001b[0m\u001b[0;34m.\u001b[0m\u001b[0m__init__\u001b[0m\u001b[0;34m(\u001b[0m\u001b[0;34m)\u001b[0m\u001b[0;34m\u001b[0m\u001b[0;34m\u001b[0m\u001b[0m\n\u001b[0m\u001b[1;32m      4\u001b[0m         \u001b[0mprint\u001b[0m\u001b[0;34m(\u001b[0m\u001b[0;34mf\"행운의 포춘쿠키 : {msg}\"\u001b[0m\u001b[0;34m)\u001b[0m\u001b[0;34m\u001b[0m\u001b[0;34m\u001b[0m\u001b[0m\n",
            "\u001b[0;31mTypeError\u001b[0m: __init__() missing 2 required positional arguments: 'prize' and 'visitor_count'"
          ]
        }
      ]
    },
    {
      "cell_type": "code",
      "source": [
        "class ManWine(ManBeer):\n",
        "    def __init__(self, msg):\n",
        "        super(ManBeer, self).__init__() # super(본인클래스, self) : 자기자신의 부모를 호출\n",
        "        # ManBeer의 부모 -> CheonBeer를 호출\n",
        "        print(f\"행운의 포춘쿠키 : {msg}\")\n",
        "# super내부에 상속 받을 CheonBeer클래스 입력\n"
      ],
      "metadata": {
        "id": "Eq-4Jx2Szof8"
      },
      "execution_count": 144,
      "outputs": []
    },
    {
      "cell_type": "code",
      "source": [
        "a2 = ManWine(\"주변 사람에게 잘 하세요\")\n",
        "a2.counter, a2.my_counter"
      ],
      "metadata": {
        "colab": {
          "base_uri": "https://localhost:8080/"
        },
        "id": "ojWwpUsY0H2y",
        "outputId": "67028aa0-64b2-49df-eaa6-e60ae8a6ff7e"
      },
      "execution_count": 145,
      "outputs": [
        {
          "output_type": "stream",
          "name": "stdout",
          "text": [
            "축하합니다! 23호점을 개점했습니다!\n",
            "행운의 포춘쿠키 : 주변 사람에게 잘 하세요\n"
          ]
        },
        {
          "output_type": "execute_result",
          "data": {
            "text/plain": [
              "(24, 23)"
            ]
          },
          "metadata": {},
          "execution_count": 145
        }
      ]
    }
  ]
}